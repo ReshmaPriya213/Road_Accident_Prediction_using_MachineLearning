{
 "cells": [
  {
   "cell_type": "code",
   "execution_count": 1,
   "id": "8108f72b",
   "metadata": {},
   "outputs": [],
   "source": [
    "import numpy as np\n",
    "import pandas as pd\n",
    "import warnings\n",
    "warnings.filterwarnings('ignore')"
   ]
  },
  {
   "cell_type": "code",
   "execution_count": 2,
   "id": "c3dd5b8c",
   "metadata": {},
   "outputs": [],
   "source": [
    "data=pd.read_csv('RADataSet.csv')"
   ]
  },
  {
   "cell_type": "code",
   "execution_count": 3,
   "id": "5649506b",
   "metadata": {},
   "outputs": [
    {
     "data": {
      "text/html": [
       "<div>\n",
       "<style scoped>\n",
       "    .dataframe tbody tr th:only-of-type {\n",
       "        vertical-align: middle;\n",
       "    }\n",
       "\n",
       "    .dataframe tbody tr th {\n",
       "        vertical-align: top;\n",
       "    }\n",
       "\n",
       "    .dataframe thead th {\n",
       "        text-align: right;\n",
       "    }\n",
       "</style>\n",
       "<table border=\"1\" class=\"dataframe\">\n",
       "  <thead>\n",
       "    <tr style=\"text-align: right;\">\n",
       "      <th></th>\n",
       "      <th>Type_of_vehicle</th>\n",
       "      <th>Road_surface_type</th>\n",
       "      <th>Light_conditions</th>\n",
       "      <th>Weather_conditions</th>\n",
       "      <th>Accident_Severity</th>\n",
       "    </tr>\n",
       "  </thead>\n",
       "  <tbody>\n",
       "    <tr>\n",
       "      <th>0</th>\n",
       "      <td>Automobile</td>\n",
       "      <td>Asphalt roads</td>\n",
       "      <td>Daylight</td>\n",
       "      <td>Normal</td>\n",
       "      <td>Low Probability</td>\n",
       "    </tr>\n",
       "    <tr>\n",
       "      <th>1</th>\n",
       "      <td>Public (&gt; 45 seats)</td>\n",
       "      <td>Asphalt roads</td>\n",
       "      <td>Daylight</td>\n",
       "      <td>Normal</td>\n",
       "      <td>Low Probability</td>\n",
       "    </tr>\n",
       "    <tr>\n",
       "      <th>2</th>\n",
       "      <td>Lorry (41?100Q)</td>\n",
       "      <td>Asphalt roads</td>\n",
       "      <td>Daylight</td>\n",
       "      <td>Normal</td>\n",
       "      <td>High Probability</td>\n",
       "    </tr>\n",
       "    <tr>\n",
       "      <th>3</th>\n",
       "      <td>Public (&gt; 45 seats)</td>\n",
       "      <td>Earth roads</td>\n",
       "      <td>Darkness</td>\n",
       "      <td>Normal</td>\n",
       "      <td>Low Probability</td>\n",
       "    </tr>\n",
       "    <tr>\n",
       "      <th>4</th>\n",
       "      <td>NaN</td>\n",
       "      <td>Asphalt roads</td>\n",
       "      <td>Darkness</td>\n",
       "      <td>Normal</td>\n",
       "      <td>Low Probability</td>\n",
       "    </tr>\n",
       "  </tbody>\n",
       "</table>\n",
       "</div>"
      ],
      "text/plain": [
       "       Type_of_vehicle Road_surface_type Light_conditions Weather_conditions  \\\n",
       "0           Automobile     Asphalt roads         Daylight             Normal   \n",
       "1  Public (> 45 seats)     Asphalt roads         Daylight             Normal   \n",
       "2      Lorry (41?100Q)     Asphalt roads         Daylight             Normal   \n",
       "3  Public (> 45 seats)       Earth roads         Darkness             Normal   \n",
       "4                  NaN     Asphalt roads         Darkness             Normal   \n",
       "\n",
       "  Accident_Severity  \n",
       "0   Low Probability  \n",
       "1   Low Probability  \n",
       "2  High Probability  \n",
       "3   Low Probability  \n",
       "4   Low Probability  "
      ]
     },
     "execution_count": 3,
     "metadata": {},
     "output_type": "execute_result"
    }
   ],
   "source": [
    "data.head()"
   ]
  },
  {
   "cell_type": "code",
   "execution_count": 4,
   "id": "4f08d66e",
   "metadata": {},
   "outputs": [
    {
     "name": "stdout",
     "output_type": "stream",
     "text": [
      "<class 'pandas.core.frame.DataFrame'>\n",
      "RangeIndex: 12316 entries, 0 to 12315\n",
      "Data columns (total 5 columns):\n",
      " #   Column              Non-Null Count  Dtype \n",
      "---  ------              --------------  ----- \n",
      " 0   Type_of_vehicle     11366 non-null  object\n",
      " 1   Road_surface_type   12144 non-null  object\n",
      " 2   Light_conditions    12316 non-null  object\n",
      " 3   Weather_conditions  12316 non-null  object\n",
      " 4   Accident_Severity   12316 non-null  object\n",
      "dtypes: object(5)\n",
      "memory usage: 481.2+ KB\n"
     ]
    },
    {
     "data": {
      "text/html": [
       "<div>\n",
       "<style scoped>\n",
       "    .dataframe tbody tr th:only-of-type {\n",
       "        vertical-align: middle;\n",
       "    }\n",
       "\n",
       "    .dataframe tbody tr th {\n",
       "        vertical-align: top;\n",
       "    }\n",
       "\n",
       "    .dataframe thead th {\n",
       "        text-align: right;\n",
       "    }\n",
       "</style>\n",
       "<table border=\"1\" class=\"dataframe\">\n",
       "  <thead>\n",
       "    <tr style=\"text-align: right;\">\n",
       "      <th></th>\n",
       "      <th>count</th>\n",
       "      <th>unique</th>\n",
       "      <th>top</th>\n",
       "      <th>freq</th>\n",
       "    </tr>\n",
       "  </thead>\n",
       "  <tbody>\n",
       "    <tr>\n",
       "      <th>Type_of_vehicle</th>\n",
       "      <td>11366</td>\n",
       "      <td>17</td>\n",
       "      <td>Automobile</td>\n",
       "      <td>3205</td>\n",
       "    </tr>\n",
       "    <tr>\n",
       "      <th>Road_surface_type</th>\n",
       "      <td>12144</td>\n",
       "      <td>5</td>\n",
       "      <td>Asphalt roads</td>\n",
       "      <td>11296</td>\n",
       "    </tr>\n",
       "    <tr>\n",
       "      <th>Light_conditions</th>\n",
       "      <td>12316</td>\n",
       "      <td>2</td>\n",
       "      <td>Daylight</td>\n",
       "      <td>8798</td>\n",
       "    </tr>\n",
       "    <tr>\n",
       "      <th>Weather_conditions</th>\n",
       "      <td>12316</td>\n",
       "      <td>9</td>\n",
       "      <td>Normal</td>\n",
       "      <td>10063</td>\n",
       "    </tr>\n",
       "    <tr>\n",
       "      <th>Accident_Severity</th>\n",
       "      <td>12316</td>\n",
       "      <td>2</td>\n",
       "      <td>Low Probability</td>\n",
       "      <td>10415</td>\n",
       "    </tr>\n",
       "  </tbody>\n",
       "</table>\n",
       "</div>"
      ],
      "text/plain": [
       "                    count unique              top   freq\n",
       "Type_of_vehicle     11366     17       Automobile   3205\n",
       "Road_surface_type   12144      5    Asphalt roads  11296\n",
       "Light_conditions    12316      2         Daylight   8798\n",
       "Weather_conditions  12316      9           Normal  10063\n",
       "Accident_Severity   12316      2  Low Probability  10415"
      ]
     },
     "execution_count": 4,
     "metadata": {},
     "output_type": "execute_result"
    }
   ],
   "source": [
    "data.info()\n",
    "\n",
    "data.describe().T"
   ]
  },
  {
   "cell_type": "code",
   "execution_count": 5,
   "id": "9dbc54af",
   "metadata": {},
   "outputs": [
    {
     "data": {
      "text/html": [
       "<div>\n",
       "<style scoped>\n",
       "    .dataframe tbody tr th:only-of-type {\n",
       "        vertical-align: middle;\n",
       "    }\n",
       "\n",
       "    .dataframe tbody tr th {\n",
       "        vertical-align: top;\n",
       "    }\n",
       "\n",
       "    .dataframe thead th {\n",
       "        text-align: right;\n",
       "    }\n",
       "</style>\n",
       "<table border=\"1\" class=\"dataframe\">\n",
       "  <thead>\n",
       "    <tr style=\"text-align: right;\">\n",
       "      <th></th>\n",
       "      <th>Type_of_vehicle</th>\n",
       "      <th>Road_surface_type</th>\n",
       "      <th>Light_conditions</th>\n",
       "      <th>Weather_conditions</th>\n",
       "      <th>Accident_Severity</th>\n",
       "    </tr>\n",
       "  </thead>\n",
       "  <tbody>\n",
       "    <tr>\n",
       "      <th>0</th>\n",
       "      <td>Automobile</td>\n",
       "      <td>Asphalt roads</td>\n",
       "      <td>Daylight</td>\n",
       "      <td>Normal</td>\n",
       "      <td>Low Probability</td>\n",
       "    </tr>\n",
       "    <tr>\n",
       "      <th>1</th>\n",
       "      <td>Public (&gt; 45 seats)</td>\n",
       "      <td>Asphalt roads</td>\n",
       "      <td>Daylight</td>\n",
       "      <td>Normal</td>\n",
       "      <td>Low Probability</td>\n",
       "    </tr>\n",
       "    <tr>\n",
       "      <th>2</th>\n",
       "      <td>Lorry (41?100Q)</td>\n",
       "      <td>Asphalt roads</td>\n",
       "      <td>Daylight</td>\n",
       "      <td>Normal</td>\n",
       "      <td>High Probability</td>\n",
       "    </tr>\n",
       "    <tr>\n",
       "      <th>3</th>\n",
       "      <td>Public (&gt; 45 seats)</td>\n",
       "      <td>Earth roads</td>\n",
       "      <td>Darkness</td>\n",
       "      <td>Normal</td>\n",
       "      <td>Low Probability</td>\n",
       "    </tr>\n",
       "    <tr>\n",
       "      <th>4</th>\n",
       "      <td>NaN</td>\n",
       "      <td>Asphalt roads</td>\n",
       "      <td>Darkness</td>\n",
       "      <td>Normal</td>\n",
       "      <td>Low Probability</td>\n",
       "    </tr>\n",
       "  </tbody>\n",
       "</table>\n",
       "</div>"
      ],
      "text/plain": [
       "       Type_of_vehicle Road_surface_type Light_conditions Weather_conditions  \\\n",
       "0           Automobile     Asphalt roads         Daylight             Normal   \n",
       "1  Public (> 45 seats)     Asphalt roads         Daylight             Normal   \n",
       "2      Lorry (41?100Q)     Asphalt roads         Daylight             Normal   \n",
       "3  Public (> 45 seats)       Earth roads         Darkness             Normal   \n",
       "4                  NaN     Asphalt roads         Darkness             Normal   \n",
       "\n",
       "  Accident_Severity  \n",
       "0   Low Probability  \n",
       "1   Low Probability  \n",
       "2  High Probability  \n",
       "3   Low Probability  \n",
       "4   Low Probability  "
      ]
     },
     "execution_count": 5,
     "metadata": {},
     "output_type": "execute_result"
    }
   ],
   "source": [
    "df=data.copy(deep=True)\n",
    "df.head()"
   ]
  },
  {
   "cell_type": "code",
   "execution_count": 6,
   "id": "61cf069e",
   "metadata": {},
   "outputs": [
    {
     "data": {
      "text/plain": [
       "Type_of_vehicle       950\n",
       "Road_surface_type     172\n",
       "Light_conditions        0\n",
       "Weather_conditions      0\n",
       "Accident_Severity       0\n",
       "dtype: int64"
      ]
     },
     "execution_count": 6,
     "metadata": {},
     "output_type": "execute_result"
    }
   ],
   "source": [
    "df.isnull().sum()"
   ]
  },
  {
   "cell_type": "code",
   "execution_count": 7,
   "id": "b4e6494c",
   "metadata": {},
   "outputs": [
    {
     "data": {
      "text/plain": [
       "(12316, 5)"
      ]
     },
     "execution_count": 7,
     "metadata": {},
     "output_type": "execute_result"
    }
   ],
   "source": [
    "df.shape"
   ]
  },
  {
   "cell_type": "code",
   "execution_count": 8,
   "id": "d51e4b7b",
   "metadata": {},
   "outputs": [
    {
     "data": {
      "text/plain": [
       "61580"
      ]
     },
     "execution_count": 8,
     "metadata": {},
     "output_type": "execute_result"
    }
   ],
   "source": [
    "df.size"
   ]
  },
  {
   "cell_type": "code",
   "execution_count": 9,
   "id": "ffe06b33",
   "metadata": {},
   "outputs": [
    {
     "name": "stdout",
     "output_type": "stream",
     "text": [
      "Type_of_vehicle\n",
      "['Automobile' 'Public (> 45 seats)' 'Lorry (41?100Q)' nan\n",
      " 'Public (13?45 seats)' 'Lorry (11?40Q)' 'Long lorry' 'Public (12 seats)'\n",
      " 'Taxi' 'Pick up upto 10Q' 'Stationwagen' 'Ridden horse' 'Other' 'Bajaj'\n",
      " 'Turbo' 'Motorcycle' 'Special vehicle' 'Bicycle']\n",
      "17\n",
      "\n",
      "Road_surface_type\n",
      "['Asphalt roads' 'Earth roads' nan 'Asphalt roads with some distress'\n",
      " 'Gravel roads' 'Other']\n",
      "5\n",
      "\n",
      "Light_conditions\n",
      "['Daylight' 'Darkness']\n",
      "2\n",
      "\n",
      "Weather_conditions\n",
      "['Normal' 'Raining' 'Raining and Windy' 'Cloudy' 'Other' 'Windy' 'Snow'\n",
      " 'Unknown' 'Fog or mist']\n",
      "9\n",
      "\n",
      "Accident_Severity\n",
      "['Low Probability' 'High Probability']\n",
      "2\n",
      "\n"
     ]
    }
   ],
   "source": [
    "for i in df.columns:\n",
    "    if df[i].dtypes== object:\n",
    "        print(i)\n",
    "        print(df[i].unique())\n",
    "        print(df[i].nunique())\n",
    "        print()"
   ]
  },
  {
   "cell_type": "code",
   "execution_count": 10,
   "id": "ccef549a",
   "metadata": {},
   "outputs": [
    {
     "data": {
      "text/html": [
       "<div>\n",
       "<style scoped>\n",
       "    .dataframe tbody tr th:only-of-type {\n",
       "        vertical-align: middle;\n",
       "    }\n",
       "\n",
       "    .dataframe tbody tr th {\n",
       "        vertical-align: top;\n",
       "    }\n",
       "\n",
       "    .dataframe thead th {\n",
       "        text-align: right;\n",
       "    }\n",
       "</style>\n",
       "<table border=\"1\" class=\"dataframe\">\n",
       "  <thead>\n",
       "    <tr style=\"text-align: right;\">\n",
       "      <th></th>\n",
       "      <th>Type_of_vehicle</th>\n",
       "      <th>Road_surface_type</th>\n",
       "      <th>Light_conditions</th>\n",
       "      <th>Weather_conditions</th>\n",
       "      <th>Accident_Severity</th>\n",
       "    </tr>\n",
       "  </thead>\n",
       "  <tbody>\n",
       "    <tr>\n",
       "      <th>0</th>\n",
       "      <td>Automobile</td>\n",
       "      <td>Asphalt roads</td>\n",
       "      <td>Daylight</td>\n",
       "      <td>Normal</td>\n",
       "      <td>Low Probability</td>\n",
       "    </tr>\n",
       "    <tr>\n",
       "      <th>1</th>\n",
       "      <td>Public (&gt; 45 seats)</td>\n",
       "      <td>Asphalt roads</td>\n",
       "      <td>Daylight</td>\n",
       "      <td>Normal</td>\n",
       "      <td>Low Probability</td>\n",
       "    </tr>\n",
       "    <tr>\n",
       "      <th>2</th>\n",
       "      <td>Lorry (41?100Q)</td>\n",
       "      <td>Asphalt roads</td>\n",
       "      <td>Daylight</td>\n",
       "      <td>Normal</td>\n",
       "      <td>High Probability</td>\n",
       "    </tr>\n",
       "    <tr>\n",
       "      <th>3</th>\n",
       "      <td>Public (&gt; 45 seats)</td>\n",
       "      <td>Earth roads</td>\n",
       "      <td>Darkness</td>\n",
       "      <td>Normal</td>\n",
       "      <td>Low Probability</td>\n",
       "    </tr>\n",
       "    <tr>\n",
       "      <th>4</th>\n",
       "      <td>NaN</td>\n",
       "      <td>Asphalt roads</td>\n",
       "      <td>Darkness</td>\n",
       "      <td>Normal</td>\n",
       "      <td>Low Probability</td>\n",
       "    </tr>\n",
       "  </tbody>\n",
       "</table>\n",
       "</div>"
      ],
      "text/plain": [
       "       Type_of_vehicle Road_surface_type Light_conditions Weather_conditions  \\\n",
       "0           Automobile     Asphalt roads         Daylight             Normal   \n",
       "1  Public (> 45 seats)     Asphalt roads         Daylight             Normal   \n",
       "2      Lorry (41?100Q)     Asphalt roads         Daylight             Normal   \n",
       "3  Public (> 45 seats)       Earth roads         Darkness             Normal   \n",
       "4                  NaN     Asphalt roads         Darkness             Normal   \n",
       "\n",
       "  Accident_Severity  \n",
       "0   Low Probability  \n",
       "1   Low Probability  \n",
       "2  High Probability  \n",
       "3   Low Probability  \n",
       "4   Low Probability  "
      ]
     },
     "execution_count": 10,
     "metadata": {},
     "output_type": "execute_result"
    }
   ],
   "source": [
    "df.head()"
   ]
  },
  {
   "cell_type": "code",
   "execution_count": 11,
   "id": "061a74b3",
   "metadata": {},
   "outputs": [
    {
     "data": {
      "text/plain": [
       "Accident_Severity\n",
       "Low Probability     10415\n",
       "High Probability     1901\n",
       "Name: count, dtype: int64"
      ]
     },
     "execution_count": 11,
     "metadata": {},
     "output_type": "execute_result"
    }
   ],
   "source": [
    "df['Accident_Severity'].value_counts()"
   ]
  },
  {
   "cell_type": "code",
   "execution_count": null,
   "id": "673abcbf",
   "metadata": {},
   "outputs": [],
   "source": []
  },
  {
   "cell_type": "code",
   "execution_count": 12,
   "id": "a94ebf2b",
   "metadata": {},
   "outputs": [],
   "source": [
    "from sklearn.preprocessing import LabelEncoder\n",
    "\n",
    "l = LabelEncoder()\n",
    "for col in df.columns:\n",
    "    if df[col].dtype == object:\n",
    "        df[col] = l.fit_transform(df[col])"
   ]
  },
  {
   "cell_type": "code",
   "execution_count": 13,
   "id": "e9b60b23",
   "metadata": {},
   "outputs": [
    {
     "data": {
      "text/html": [
       "<div>\n",
       "<style scoped>\n",
       "    .dataframe tbody tr th:only-of-type {\n",
       "        vertical-align: middle;\n",
       "    }\n",
       "\n",
       "    .dataframe tbody tr th {\n",
       "        vertical-align: top;\n",
       "    }\n",
       "\n",
       "    .dataframe thead th {\n",
       "        text-align: right;\n",
       "    }\n",
       "</style>\n",
       "<table border=\"1\" class=\"dataframe\">\n",
       "  <thead>\n",
       "    <tr style=\"text-align: right;\">\n",
       "      <th></th>\n",
       "      <th>Type_of_vehicle</th>\n",
       "      <th>Road_surface_type</th>\n",
       "      <th>Light_conditions</th>\n",
       "      <th>Weather_conditions</th>\n",
       "      <th>Accident_Severity</th>\n",
       "    </tr>\n",
       "  </thead>\n",
       "  <tbody>\n",
       "    <tr>\n",
       "      <th>0</th>\n",
       "      <td>0</td>\n",
       "      <td>0</td>\n",
       "      <td>1</td>\n",
       "      <td>2</td>\n",
       "      <td>1</td>\n",
       "    </tr>\n",
       "    <tr>\n",
       "      <th>1</th>\n",
       "      <td>11</td>\n",
       "      <td>0</td>\n",
       "      <td>1</td>\n",
       "      <td>2</td>\n",
       "      <td>1</td>\n",
       "    </tr>\n",
       "    <tr>\n",
       "      <th>2</th>\n",
       "      <td>5</td>\n",
       "      <td>0</td>\n",
       "      <td>1</td>\n",
       "      <td>2</td>\n",
       "      <td>0</td>\n",
       "    </tr>\n",
       "    <tr>\n",
       "      <th>3</th>\n",
       "      <td>11</td>\n",
       "      <td>2</td>\n",
       "      <td>0</td>\n",
       "      <td>2</td>\n",
       "      <td>1</td>\n",
       "    </tr>\n",
       "    <tr>\n",
       "      <th>4</th>\n",
       "      <td>17</td>\n",
       "      <td>0</td>\n",
       "      <td>0</td>\n",
       "      <td>2</td>\n",
       "      <td>1</td>\n",
       "    </tr>\n",
       "  </tbody>\n",
       "</table>\n",
       "</div>"
      ],
      "text/plain": [
       "   Type_of_vehicle  Road_surface_type  Light_conditions  Weather_conditions  \\\n",
       "0                0                  0                 1                   2   \n",
       "1               11                  0                 1                   2   \n",
       "2                5                  0                 1                   2   \n",
       "3               11                  2                 0                   2   \n",
       "4               17                  0                 0                   2   \n",
       "\n",
       "   Accident_Severity  \n",
       "0                  1  \n",
       "1                  1  \n",
       "2                  0  \n",
       "3                  1  \n",
       "4                  1  "
      ]
     },
     "execution_count": 13,
     "metadata": {},
     "output_type": "execute_result"
    }
   ],
   "source": [
    "df.head()"
   ]
  },
  {
   "cell_type": "code",
   "execution_count": 14,
   "id": "864dc405",
   "metadata": {},
   "outputs": [
    {
     "data": {
      "text/plain": [
       "Accident_Severity\n",
       "1    10415\n",
       "0     1901\n",
       "Name: count, dtype: int64"
      ]
     },
     "execution_count": 14,
     "metadata": {},
     "output_type": "execute_result"
    }
   ],
   "source": [
    "df['Accident_Severity'].value_counts()"
   ]
  },
  {
   "cell_type": "code",
   "execution_count": 15,
   "id": "aeaac5dd",
   "metadata": {},
   "outputs": [],
   "source": [
    "x=df.drop('Accident_Severity',axis=1)\n",
    "y=df['Accident_Severity']"
   ]
  },
  {
   "cell_type": "code",
   "execution_count": 16,
   "id": "a533cdda",
   "metadata": {},
   "outputs": [],
   "source": [
    "from sklearn.model_selection import train_test_split\n",
    "xtrain, xtest, ytrain, ytest = train_test_split(x,y,test_size=0.30)"
   ]
  },
  {
   "cell_type": "code",
   "execution_count": 17,
   "id": "072e0379",
   "metadata": {},
   "outputs": [
    {
     "name": "stdout",
     "output_type": "stream",
     "text": [
      "------\n",
      "Random Forest Classifier:\n",
      "accuracy : 0.85\n",
      "confusion matrix : [[   4  551]\n",
      " [  13 3127]]\n",
      "classification report:               precision    recall  f1-score   support\n",
      "\n",
      "           0       0.24      0.01      0.01       555\n",
      "           1       0.85      1.00      0.92      3140\n",
      "\n",
      "    accuracy                           0.85      3695\n",
      "   macro avg       0.54      0.50      0.47      3695\n",
      "weighted avg       0.76      0.85      0.78      3695\n",
      "\n",
      "accuracy : 0.85\n",
      "precision : 0.76\n",
      "recall : 0.85\n",
      "f1 : 0.78\n",
      "\n",
      "------\n",
      "SVM Classifier:\n",
      "accuracy : 0.85\n",
      "confusion matrix : [[   0  555]\n",
      " [   0 3140]]\n",
      "classification report:               precision    recall  f1-score   support\n",
      "\n",
      "           0       0.00      0.00      0.00       555\n",
      "           1       0.85      1.00      0.92      3140\n",
      "\n",
      "    accuracy                           0.85      3695\n",
      "   macro avg       0.42      0.50      0.46      3695\n",
      "weighted avg       0.72      0.85      0.78      3695\n",
      "\n",
      "accuracy : 0.85\n",
      "precision : 0.72\n",
      "recall : 0.85\n",
      "f1 : 0.78\n",
      "\n",
      "------\n",
      "KNN Classifier:\n",
      "accuracy : 0.83\n",
      "confusion matrix : [[  15  540]\n",
      " [  79 3061]]\n",
      "classification report:               precision    recall  f1-score   support\n",
      "\n",
      "           0       0.16      0.03      0.05       555\n",
      "           1       0.85      0.97      0.91      3140\n",
      "\n",
      "    accuracy                           0.83      3695\n",
      "   macro avg       0.50      0.50      0.48      3695\n",
      "weighted avg       0.75      0.83      0.78      3695\n",
      "\n",
      "accuracy : 0.83\n",
      "precision : 0.75\n",
      "recall : 0.83\n",
      "f1 : 0.78\n",
      "\n",
      "------\n",
      "Decision Tree Classifier:\n",
      "accuracy : 0.84\n",
      "confusion matrix : [[   7  548]\n",
      " [  25 3115]]\n",
      "classification report:               precision    recall  f1-score   support\n",
      "\n",
      "           0       0.22      0.01      0.02       555\n",
      "           1       0.85      0.99      0.92      3140\n",
      "\n",
      "    accuracy                           0.84      3695\n",
      "   macro avg       0.53      0.50      0.47      3695\n",
      "weighted avg       0.76      0.84      0.78      3695\n",
      "\n",
      "accuracy : 0.84\n",
      "precision : 0.76\n",
      "recall : 0.84\n",
      "f1 : 0.78\n",
      "\n",
      "------\n",
      "Naive Bayes Classifier:\n",
      "accuracy : 0.85\n",
      "confusion matrix : [[   0  555]\n",
      " [   0 3140]]\n",
      "classification report:               precision    recall  f1-score   support\n",
      "\n",
      "           0       0.00      0.00      0.00       555\n",
      "           1       0.85      1.00      0.92      3140\n",
      "\n",
      "    accuracy                           0.85      3695\n",
      "   macro avg       0.42      0.50      0.46      3695\n",
      "weighted avg       0.72      0.85      0.78      3695\n",
      "\n",
      "accuracy : 0.85\n",
      "precision : 0.72\n",
      "recall : 0.85\n",
      "f1 : 0.78\n",
      "\n"
     ]
    }
   ],
   "source": [
    "from sklearn.ensemble import RandomForestClassifier\n",
    "from sklearn.svm import SVC\n",
    "from sklearn.neighbors import KNeighborsClassifier\n",
    "from sklearn.tree import DecisionTreeClassifier\n",
    "from sklearn.naive_bayes import GaussianNB\n",
    "from sklearn.model_selection import GridSearchCV\n",
    "from sklearn.metrics import confusion_matrix, classification_report, accuracy_score, recall_score, f1_score, precision_score\n",
    "\n",
    "#Define classifiers\n",
    "classifiers = {\n",
    "     'Random Forest': RandomForestClassifier(),\n",
    "     'SVM': SVC(),\n",
    "     'KNN': KNeighborsClassifier(),\n",
    "     'Decision Tree': DecisionTreeClassifier(),\n",
    "     'Naive Bayes': GaussianNB()\n",
    " }\n",
    "\n",
    "#Train and evaluate each classifier\n",
    "for clf_name, clf in classifiers.items():\n",
    "    print('------')\n",
    "    print(f'{clf_name} Classifier:')\n",
    "    clf.fit(xtrain, ytrain)\n",
    "    ypred = clf.predict(xtest)\n",
    "    print('accuracy :', round(accuracy_score(ytest, ypred), 2))\n",
    "    print('confusion matrix :', confusion_matrix(ytest, ypred))\n",
    "    print('classification report:', classification_report(ytest, ypred))\n",
    "    print('accuracy :', round(accuracy_score(ytest, ypred), 2))\n",
    "    print('precision :', round(precision_score(ytest, ypred, average='weighted'), 2))\n",
    "    print('recall :', round(recall_score(ytest, ypred, average='weighted'), 2))\n",
    "    print('f1 :', round(f1_score(ytest, ypred, average='weighted'), 2))\n",
    "    print()"
   ]
  },
  {
   "cell_type": "code",
   "execution_count": 19,
   "id": "511250d2",
   "metadata": {},
   "outputs": [
    {
     "name": "stdout",
     "output_type": "stream",
     "text": [
      "accuracy : 0.84\n"
     ]
    }
   ],
   "source": [
    "from sklearn.ensemble import RandomForestClassifier\n",
    "from sklearn.model_selection import train_test_split\n",
    "from sklearn.metrics import accuracy_score\n",
    "xtrain, xtest, ytrain, ytest = train_test_split(x, y, test_size=0.30,)\n",
    "rf = RandomForestClassifier(criterion='entropy', n_estimators=100, random_state=42)\n",
    "rf.fit(xtrain, ytrain)\n",
    "ypred = rf.predict(xtest)\n",
    "print('accuracy :', round(accuracy_score(ytest, ypred), 2))"
   ]
  },
  {
   "cell_type": "code",
   "execution_count": 20,
   "id": "390e05a4",
   "metadata": {},
   "outputs": [],
   "source": [
    "import pickle\n",
    "filename='test.pkl'\n",
    "pickle.dump(rf,open(filename,'wb'))"
   ]
  },
  {
   "cell_type": "code",
   "execution_count": 21,
   "id": "f5ccafaa",
   "metadata": {},
   "outputs": [],
   "source": [
    "model = pickle.load(open(filename,'rb'))"
   ]
  },
  {
   "cell_type": "code",
   "execution_count": 22,
   "id": "a07e5cdd",
   "metadata": {},
   "outputs": [
    {
     "data": {
      "text/plain": [
       "array([1])"
      ]
     },
     "execution_count": 22,
     "metadata": {},
     "output_type": "execute_result"
    }
   ],
   "source": [
    "model.predict([[11,0,0,7]])"
   ]
  },
  {
   "cell_type": "code",
   "execution_count": null,
   "id": "8364b84e",
   "metadata": {},
   "outputs": [],
   "source": []
  },
  {
   "cell_type": "code",
   "execution_count": null,
   "id": "f9d7e6cb",
   "metadata": {},
   "outputs": [],
   "source": []
  }
 ],
 "metadata": {
  "kernelspec": {
   "display_name": "Python 3 (ipykernel)",
   "language": "python",
   "name": "python3"
  },
  "language_info": {
   "codemirror_mode": {
    "name": "ipython",
    "version": 3
   },
   "file_extension": ".py",
   "mimetype": "text/x-python",
   "name": "python",
   "nbconvert_exporter": "python",
   "pygments_lexer": "ipython3",
   "version": "3.11.5"
  }
 },
 "nbformat": 4,
 "nbformat_minor": 5
}
